{
 "cells": [
  {
   "cell_type": "code",
   "execution_count": null,
   "metadata": {},
   "outputs": [],
   "source": [
    "import sys\n",
    "import numpy as np"
   ]
  },
  {
   "cell_type": "code",
   "execution_count": null,
   "metadata": {},
   "outputs": [],
   "source": [
    "# how much memory we will allocate from the kernel\n",
    "\n",
    "MEGA = 2**20\n",
    "GIGA = 2**30\n",
    "\n",
    "TEST_SIZE = 10 * GIGA"
   ]
  },
  {
   "cell_type": "code",
   "execution_count": null,
   "metadata": {},
   "outputs": [],
   "source": [
    "# allocate numpy arrays of byte8\n",
    "def mega100(start):\n",
    "    SIZE = 100 * 1024 * 1024 // 8    # because int64\n",
    "#    chunk = np.arange(start, SIZE+start, dtype=np.int64)\n",
    "    chunk = np.linspace(start, start+1000, SIZE, dtype=np.int64)\n",
    "    \n",
    "    return chunk"
   ]
  },
  {
   "cell_type": "code",
   "execution_count": null,
   "metadata": {},
   "outputs": [],
   "source": [
    "def allocate_until(total_size):\n",
    "    size = 0\n",
    "    herd = []\n",
    "    start = 0\n",
    "    while size < TEST_SIZE:\n",
    "        chunk = mega100(start)\n",
    "        herd.append(chunk)\n",
    "        size += sys.getsizeof(chunk)\n",
    "        start += 1000\n",
    "        print(f\"allocated so far: {size // MEGA}M\")      \n",
    "    return herd"
   ]
  },
  {
   "cell_type": "code",
   "execution_count": null,
   "metadata": {},
   "outputs": [],
   "source": [
    "# gc works very fine: if we don't store the result in a variable\n",
    "# free will show the memory gets freed within 30s or less\n",
    "\n",
    "retain = allocate_until(TEST_SIZE)\n",
    "\n",
    "total = sum(sys.getsizeof(x) for x in retain)\n",
    "print(f\"Total allocated bytes is {total} bytes\")"
   ]
  }
 ],
 "metadata": {
  "jupytext": {
   "cell_metadata_filter": "all",
   "formats": "ipynb",
   "notebook_metadata_filter": "all,-language_info,-toc,-jupytext.text_representation.jupytext_version"
  },
  "kernelspec": {
   "display_name": "Python 3",
   "language": "python",
   "name": "python3"
  },
  "language_info": {
   "codemirror_mode": {
    "name": "ipython",
    "version": 3
   },
   "file_extension": ".py",
   "mimetype": "text/x-python",
   "name": "python",
   "nbconvert_exporter": "python",
   "pygments_lexer": "ipython3",
   "version": "3.7.3"
  },
  "toc": {
   "base_numbering": 1,
   "nav_menu": {},
   "number_sections": true,
   "sideBar": true,
   "skip_h1_title": false,
   "title_cell": "Table of Contents",
   "title_sidebar": "Contents",
   "toc_cell": false,
   "toc_position": {},
   "toc_section_display": true,
   "toc_window_display": false
  }
 },
 "nbformat": 4,
 "nbformat_minor": 2
}
